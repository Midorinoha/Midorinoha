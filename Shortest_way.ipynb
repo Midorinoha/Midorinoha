{
  "nbformat": 4,
  "nbformat_minor": 0,
  "metadata": {
    "colab": {
      "name": "Shortest way",
      "provenance": [],
      "collapsed_sections": [],
      "authorship_tag": "ABX9TyNacAEaMyBHeInqljYfRoP1",
      "include_colab_link": true
    },
    "kernelspec": {
      "name": "python3",
      "display_name": "Python 3"
    },
    "language_info": {
      "name": "python"
    }
  },
  "cells": [
    {
      "cell_type": "markdown",
      "metadata": {
        "id": "view-in-github",
        "colab_type": "text"
      },
      "source": [
        "<a href=\"https://colab.research.google.com/github/Midorinoha/Midorinoha/blob/main/Shortest_way.ipynb\" target=\"_parent\"><img src=\"https://colab.research.google.com/assets/colab-badge.svg\" alt=\"Open In Colab\"/></a>"
      ]
    },
    {
      "cell_type": "code",
      "source": [
        "import itertools"
      ],
      "metadata": {
        "id": "lCtD7_f21Hb7"
      },
      "execution_count": 8,
      "outputs": []
    },
    {
      "cell_type": "code",
      "execution_count": 27,
      "metadata": {
        "id": "dEnkZm010-rv"
      },
      "outputs": [],
      "source": [
        "pochta = (2,0)\n",
        "points = [(2,5), (5,2), (6,6), (8,3)]\n",
        "#pochta = (0,1)\n",
        "#points = [(7,2), (5,5), (4,1), (1,4)]\n",
        "#pochta = (0,0)\n",
        "#points = [(1,4), (4,1), (4,2)]\n",
        "#points = [(0,2), (2,2), (2,0)]"
      ]
    },
    {
      "cell_type": "code",
      "source": [
        "def distance(point_1, point_2):\n",
        "  return ((point_2[0] - point_1[0]) ** 2 + (point_2[1] - point_1[1]) ** 2) ** 0.5"
      ],
      "metadata": {
        "id": "_dtLZx8w1ntp"
      },
      "execution_count": 10,
      "outputs": []
    },
    {
      "cell_type": "code",
      "source": [
        "#total distance\n",
        "def distance_calculation(start_end_point, points):\n",
        "  point_1 = start_end_point\n",
        "  sum_distance = 0\n",
        "  for point in points:\n",
        "    dist_p1_p2 = distance(point_1, point)\n",
        "    sum_distance += dist_p1_p2\n",
        "    point_1 = point\n",
        "  \n",
        "  dist_p1_p2 = distance(point_1, start_end_point)\n",
        "  sum_distance += dist_p1_p2\n",
        "  return sum_distance"
      ],
      "metadata": {
        "id": "0txXGeI01s2g"
      },
      "execution_count": 11,
      "outputs": []
    },
    {
      "cell_type": "code",
      "source": [
        "def shortest_route(point_start_end, list_points):\n",
        "  #all possible combinations of points\n",
        "  perm_points_set = itertools.permutations(list_points)\n",
        "  lists = list(perm_points_set)\n",
        "\n",
        "  #dictionary (combination of points: total distance)\n",
        "  dist ={}\n",
        "  for i in range(len(lists)):\n",
        "    dist[lists[i]] = distance_calculation(pochta, lists[i])\n",
        "\n",
        "  #minimum distance \n",
        "  min_key = min(dist, key=dist.get)\n",
        "\n",
        "  conclusion = str(pochta) + ' -> '\n",
        "  point_1 = pochta\n",
        "  for i in min_key:\n",
        "    dist_p1_p2 = [distance(point_1, i)]\n",
        "    conclusion += str(i) + str(dist_p1_p2) + ' -> '\n",
        "    point_1 = i\n",
        "\n",
        "  dist_p1_p2 = [distance(point_1, pochta)]\n",
        "  conclusion += str(pochta) + str(dist_p1_p2) + ' = ' + str(dist[min_key])\n",
        "  return conclusion"
      ],
      "metadata": {
        "id": "tFu0UX9c16dh"
      },
      "execution_count": 12,
      "outputs": []
    },
    {
      "cell_type": "code",
      "source": [
        "shortest_route(pochta, points)"
      ],
      "metadata": {
        "colab": {
          "base_uri": "https://localhost:8080/",
          "height": 35
        },
        "id": "btwKBLoK1w2x",
        "outputId": "27294419-ef70-4f70-feae-97a1ccce7971"
      },
      "execution_count": 28,
      "outputs": [
        {
          "output_type": "execute_result",
          "data": {
            "text/plain": [
              "'(2, 0) -> (2, 5)[5.0] -> (6, 6)[4.123105625617661] -> (8, 3)[3.605551275463989] -> (5, 2)[3.1622776601683795] -> (2, 0)[3.605551275463989] = 19.49648583671402'"
            ],
            "application/vnd.google.colaboratory.intrinsic+json": {
              "type": "string"
            }
          },
          "metadata": {},
          "execution_count": 28
        }
      ]
    }
  ]
}